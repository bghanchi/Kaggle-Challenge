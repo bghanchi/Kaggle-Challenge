{
 "cells": [
  {
   "cell_type": "code",
   "execution_count": 5,
   "metadata": {},
   "outputs": [],
   "source": [
    "from __future__ import absolute_import,division,print_function, unicode_literals\n",
    "import tensorflow as tf\n",
    "from tensorflow import keras\n",
    "import numpy as np\n",
    "import pandas as pd\n",
    "import matplotlib.pyplot as plt\n",
    "import random\n",
    "%matplotlib inline\n",
    "random.seed(10)"
   ]
  },
  {
   "cell_type": "code",
   "execution_count": 6,
   "metadata": {},
   "outputs": [],
   "source": [
    "data=keras.datasets.imdb"
   ]
  },
  {
   "cell_type": "code",
   "execution_count": 90,
   "metadata": {},
   "outputs": [],
   "source": [
    "(train_data, train_labels), (test_data, test_labels) = data.load_data(num_words=10000)"
   ]
  },
  {
   "cell_type": "code",
   "execution_count": 46,
   "metadata": {},
   "outputs": [
    {
     "name": "stdout",
     "output_type": "stream",
     "text": [
      "25000\n",
      "25000\n"
     ]
    }
   ],
   "source": [
    "print(len(train_data))\n",
    "print(len(test_data))\n"
   ]
  },
  {
   "cell_type": "code",
   "execution_count": 47,
   "metadata": {},
   "outputs": [
    {
     "name": "stdout",
     "output_type": "stream",
     "text": [
      "[1, 14, 22, 16, 43, 530, 973, 1622, 1385, 65, 458, 4468, 66, 3941, 4, 173, 36, 256, 5, 25, 100, 43, 838, 112, 50, 670, 2, 9, 35, 480, 284, 5, 150, 4, 172, 112, 167, 2, 336, 385, 39, 4, 172, 4536, 1111, 17, 546, 38, 13, 447, 4, 192, 50, 16, 6, 147, 2025, 19, 14, 22, 4, 1920, 4613, 469, 4, 22, 71, 87, 12, 16, 43, 530, 38, 76, 15, 13, 1247, 4, 22, 17, 515, 17, 12, 16, 626, 18, 2, 5, 62, 386, 12, 8, 316, 8, 106, 5, 4, 2223, 5244, 16, 480, 66, 3785, 33, 4, 130, 12, 16, 38, 619, 5, 25, 124, 51, 36, 135, 48, 25, 1415, 33, 6, 22, 12, 215, 28, 77, 52, 5, 14, 407, 16, 82, 2, 8, 4, 107, 117, 5952, 15, 256, 4, 2, 7, 3766, 5, 723, 36, 71, 43, 530, 476, 26, 400, 317, 46, 7, 4, 2, 1029, 13, 104, 88, 4, 381, 15, 297, 98, 32, 2071, 56, 26, 141, 6, 194, 7486, 18, 4, 226, 22, 21, 134, 476, 26, 480, 5, 144, 30, 5535, 18, 51, 36, 28, 224, 92, 25, 104, 4, 226, 65, 16, 38, 1334, 88, 12, 16, 283, 5, 16, 4472, 113, 103, 32, 15, 16, 5345, 19, 178, 32]\n"
     ]
    }
   ],
   "source": [
    "print(train_data[0])"
   ]
  },
  {
   "cell_type": "code",
   "execution_count": 48,
   "metadata": {},
   "outputs": [],
   "source": [
    "data_dt=data.get_word_index()"
   ]
  },
  {
   "cell_type": "code",
   "execution_count": 49,
   "metadata": {},
   "outputs": [],
   "source": [
    "#print(data_dt)"
   ]
  },
  {
   "cell_type": "code",
   "execution_count": 50,
   "metadata": {},
   "outputs": [],
   "source": [
    "review_data={v+3:k for k,v in data_dt.items()}"
   ]
  },
  {
   "cell_type": "code",
   "execution_count": 52,
   "metadata": {},
   "outputs": [],
   "source": [
    "review_data[0]=\"<PAD>\"\n",
    "review_data[1]=\"<START>\"\n",
    "review_data[2]=\"<UNK>\"\n",
    "review_data[3]=\"<UNUSED>\""
   ]
  },
  {
   "cell_type": "code",
   "execution_count": 53,
   "metadata": {},
   "outputs": [],
   "source": [
    "#review_data"
   ]
  },
  {
   "cell_type": "code",
   "execution_count": 69,
   "metadata": {},
   "outputs": [],
   "source": [
    "def integer_to_test(test):\n",
    "     return \" \".join([review_data.get(i,\"?\") for i in test])"
   ]
  },
  {
   "cell_type": "code",
   "execution_count": 73,
   "metadata": {},
   "outputs": [
    {
     "name": "stdout",
     "output_type": "stream",
     "text": [
      "[1, 14, 47, 8, 30, 31, 7, 4, 249, 108, 7, 4, 5974, 54, 61, 369, 13, 71, 149, 14, 22, 112, 4, 2401, 311, 12, 16, 3711, 33, 75, 43, 1829, 296, 4, 86, 320, 35, 534, 19, 263, 4821, 1301, 4, 1873, 33, 89, 78, 12, 66, 16, 4, 360, 7, 4, 58, 316, 334, 11, 4, 1716, 43, 645, 662, 8, 257, 85, 1200, 42, 1228, 2578, 83, 68, 3912, 15, 36, 165, 1539, 278, 36, 69, 2, 780, 8, 106, 14, 6905, 1338, 18, 6, 22, 12, 215, 28, 610, 40, 6, 87, 326, 23, 2300, 21, 23, 22, 12, 272, 40, 57, 31, 11, 4, 22, 47, 6, 2307, 51, 9, 170, 23, 595, 116, 595, 1352, 13, 191, 79, 638, 89, 2, 14, 9, 8, 106, 607, 624, 35, 534, 6, 227, 7, 129, 113]\n",
      "<START> this has to be one of the worst films of the 1990s when my friends i were watching this film being the target audience it was aimed at we just sat watched the first half an hour with our jaws touching the floor at how bad it really was the rest of the time everyone else in the theatre just started talking to each other leaving or generally crying into their popcorn that they actually paid money they had <UNK> working to watch this feeble excuse for a film it must have looked like a great idea on paper but on film it looks like no one in the film has a clue what is going on crap acting crap costumes i can't get across how <UNK> this is to watch save yourself an hour a bit of your life\n",
      "0\n"
     ]
    }
   ],
   "source": [
    "print(train_data[2])\n",
    "print(integer_to_test(train_data[2]))\n",
    "#print(train_labels[2])"
   ]
  },
  {
   "cell_type": "code",
   "execution_count": 91,
   "metadata": {},
   "outputs": [
    {
     "name": "stdout",
     "output_type": "stream",
     "text": [
      "218\n"
     ]
    }
   ],
   "source": [
    "#get_word_index()\n",
    "print(len(train_data[0]))"
   ]
  },
  {
   "cell_type": "code",
   "execution_count": 92,
   "metadata": {},
   "outputs": [],
   "source": [
    "train_data=keras.preprocessing.sequence.pad_sequences(train_data,value=0,padding=\"post\",maxlen=256)\n",
    "test_data=keras.preprocessing.sequence.pad_sequences(test_data,value=0,padding=\"post\",maxlen=256)"
   ]
  },
  {
   "cell_type": "code",
   "execution_count": 93,
   "metadata": {},
   "outputs": [
    {
     "data": {
      "text/plain": [
       "array([   1,   14,   22,   16,   43,  530,  973, 1622, 1385,   65,  458,\n",
       "       4468,   66, 3941,    4,  173,   36,  256,    5,   25,  100,   43,\n",
       "        838,  112,   50,  670,    2,    9,   35,  480,  284,    5,  150,\n",
       "          4,  172,  112,  167,    2,  336,  385,   39,    4,  172, 4536,\n",
       "       1111,   17,  546,   38,   13,  447,    4,  192,   50,   16,    6,\n",
       "        147, 2025,   19,   14,   22,    4, 1920, 4613,  469,    4,   22,\n",
       "         71,   87,   12,   16,   43,  530,   38,   76,   15,   13, 1247,\n",
       "          4,   22,   17,  515,   17,   12,   16,  626,   18,    2,    5,\n",
       "         62,  386,   12,    8,  316,    8,  106,    5,    4, 2223, 5244,\n",
       "         16,  480,   66, 3785,   33,    4,  130,   12,   16,   38,  619,\n",
       "          5,   25,  124,   51,   36,  135,   48,   25, 1415,   33,    6,\n",
       "         22,   12,  215,   28,   77,   52,    5,   14,  407,   16,   82,\n",
       "          2,    8,    4,  107,  117, 5952,   15,  256,    4,    2,    7,\n",
       "       3766,    5,  723,   36,   71,   43,  530,  476,   26,  400,  317,\n",
       "         46,    7,    4,    2, 1029,   13,  104,   88,    4,  381,   15,\n",
       "        297,   98,   32, 2071,   56,   26,  141,    6,  194, 7486,   18,\n",
       "          4,  226,   22,   21,  134,  476,   26,  480,    5,  144,   30,\n",
       "       5535,   18,   51,   36,   28,  224,   92,   25,  104,    4,  226,\n",
       "         65,   16,   38, 1334,   88,   12,   16,  283,    5,   16, 4472,\n",
       "        113,  103,   32,   15,   16, 5345,   19,  178,   32,    0,    0,\n",
       "          0,    0,    0,    0,    0,    0,    0,    0,    0,    0,    0,\n",
       "          0,    0,    0,    0,    0,    0,    0,    0,    0,    0,    0,\n",
       "          0,    0,    0,    0,    0,    0,    0,    0,    0,    0,    0,\n",
       "          0,    0,    0])"
      ]
     },
     "execution_count": 93,
     "metadata": {},
     "output_type": "execute_result"
    }
   ],
   "source": [
    "train_data[0]\n",
    "#len(train_data[0])"
   ]
  },
  {
   "cell_type": "code",
   "execution_count": 94,
   "metadata": {},
   "outputs": [],
   "source": [
    "# Create model"
   ]
  },
  {
   "cell_type": "code",
   "execution_count": 186,
   "metadata": {},
   "outputs": [],
   "source": [
    "#model=keras.Sequential()"
   ]
  },
  {
   "cell_type": "code",
   "execution_count": 227,
   "metadata": {},
   "outputs": [
    {
     "name": "stdout",
     "output_type": "stream",
     "text": [
      "_________________________________________________________________\n",
      "Layer (type)                 Output Shape              Param #   \n",
      "=================================================================\n",
      "embedding_24 (Embedding)     (None, None, 16)          160000    \n",
      "_________________________________________________________________\n",
      "global_average_pooling1d_17  (None, 16)                0         \n",
      "_________________________________________________________________\n",
      "dense_37 (Dense)             (None, 16)                272       \n",
      "_________________________________________________________________\n",
      "dense_38 (Dense)             (None, 1)                 17        \n",
      "=================================================================\n",
      "Total params: 160,289\n",
      "Trainable params: 160,289\n",
      "Non-trainable params: 0\n",
      "_________________________________________________________________\n"
     ]
    }
   ],
   "source": [
    "model=keras.Sequential()\n",
    "\n",
    "input_dim=10000\n",
    "output_dim=16\n",
    "model.add(keras.layers.Embedding(input_dim,output_dim))\n",
    "model.add(keras.layers.GlobalAveragePooling1D())\n",
    "model.add(keras.layers.Dense(16,activation='relu'))\n",
    "model.add(keras.layers.Dense(1,activation='sigmoid'))\n",
    "\n",
    "model.summary()"
   ]
  },
  {
   "cell_type": "code",
   "execution_count": 228,
   "metadata": {},
   "outputs": [],
   "source": [
    "#Create compliter"
   ]
  },
  {
   "cell_type": "code",
   "execution_count": 229,
   "metadata": {},
   "outputs": [],
   "source": [
    "model.compile(loss=\"binary_crossentropy\", optimizer=\"adam\", metrics=['accuracy'])"
   ]
  },
  {
   "cell_type": "code",
   "execution_count": 230,
   "metadata": {},
   "outputs": [],
   "source": [
    "x_train=train_data[:10000]\n",
    "y_train=train_labels[:10000]\n",
    "x_test=train_data[10000:]\n",
    "y_test=train_labels[10000:]"
   ]
  },
  {
   "cell_type": "code",
   "execution_count": 231,
   "metadata": {},
   "outputs": [
    {
     "name": "stdout",
     "output_type": "stream",
     "text": [
      "Train on 10000 samples, validate on 15000 samples\n",
      "Epoch 1/40\n",
      "10000/10000 [==============================] - 3s 338us/step - loss: 0.6926 - acc: 0.5099 - val_loss: 0.6917 - val_acc: 0.5056\n",
      "Epoch 2/40\n",
      "10000/10000 [==============================] - 1s 148us/step - loss: 0.6907 - acc: 0.5203 - val_loss: 0.6901 - val_acc: 0.5209\n",
      "Epoch 3/40\n",
      "10000/10000 [==============================] - 1s 150us/step - loss: 0.6890 - acc: 0.5511 - val_loss: 0.6881 - val_acc: 0.5521\n",
      "Epoch 4/40\n",
      "10000/10000 [==============================] - 2s 152us/step - loss: 0.6869 - acc: 0.5685 - val_loss: 0.6863 - val_acc: 0.5928\n",
      "Epoch 5/40\n",
      "10000/10000 [==============================] - 1s 150us/step - loss: 0.6849 - acc: 0.6078 - val_loss: 0.6839 - val_acc: 0.6321\n",
      "Epoch 6/40\n",
      "10000/10000 [==============================] - 2s 152us/step - loss: 0.6821 - acc: 0.6399 - val_loss: 0.6811 - val_acc: 0.6733\n",
      "Epoch 7/40\n",
      "10000/10000 [==============================] - 1s 146us/step - loss: 0.6790 - acc: 0.6801 - val_loss: 0.6783 - val_acc: 0.6321\n",
      "Epoch 8/40\n",
      "10000/10000 [==============================] - 2s 155us/step - loss: 0.6752 - acc: 0.6756 - val_loss: 0.6736 - val_acc: 0.7230\n",
      "Epoch 9/40\n",
      "10000/10000 [==============================] - 1s 142us/step - loss: 0.6702 - acc: 0.7171 - val_loss: 0.6685 - val_acc: 0.7351\n",
      "Epoch 10/40\n",
      "10000/10000 [==============================] - 1s 148us/step - loss: 0.6644 - acc: 0.7364 - val_loss: 0.6623 - val_acc: 0.7503\n",
      "Epoch 11/40\n",
      "10000/10000 [==============================] - 1s 146us/step - loss: 0.6569 - acc: 0.7469 - val_loss: 0.6548 - val_acc: 0.7551\n",
      "Epoch 12/40\n",
      "10000/10000 [==============================] - 2s 150us/step - loss: 0.6480 - acc: 0.7582 - val_loss: 0.6458 - val_acc: 0.7542\n",
      "Epoch 13/40\n",
      "10000/10000 [==============================] - 1s 146us/step - loss: 0.6375 - acc: 0.7677 - val_loss: 0.6354 - val_acc: 0.7489\n",
      "Epoch 14/40\n",
      "10000/10000 [==============================] - 2s 151us/step - loss: 0.6248 - acc: 0.7797 - val_loss: 0.6228 - val_acc: 0.7633\n",
      "Epoch 15/40\n",
      "10000/10000 [==============================] - 1s 146us/step - loss: 0.6105 - acc: 0.7877 - val_loss: 0.6089 - val_acc: 0.7657\n",
      "Epoch 16/40\n",
      "10000/10000 [==============================] - 2s 152us/step - loss: 0.5944 - acc: 0.7859 - val_loss: 0.5927 - val_acc: 0.7785\n",
      "Epoch 17/40\n",
      "10000/10000 [==============================] - 2s 153us/step - loss: 0.5763 - acc: 0.7950 - val_loss: 0.5759 - val_acc: 0.7833\n",
      "Epoch 18/40\n",
      "10000/10000 [==============================] - 2s 163us/step - loss: 0.5572 - acc: 0.8097 - val_loss: 0.5582 - val_acc: 0.7914\n",
      "Epoch 19/40\n",
      "10000/10000 [==============================] - 1s 142us/step - loss: 0.5369 - acc: 0.8165 - val_loss: 0.5400 - val_acc: 0.7987\n",
      "Epoch 20/40\n",
      "10000/10000 [==============================] - 2s 151us/step - loss: 0.5163 - acc: 0.8304 - val_loss: 0.5236 - val_acc: 0.7960\n",
      "Epoch 21/40\n",
      "10000/10000 [==============================] - 1s 146us/step - loss: 0.4958 - acc: 0.8328 - val_loss: 0.5046 - val_acc: 0.8121\n",
      "Epoch 22/40\n",
      "10000/10000 [==============================] - 2s 163us/step - loss: 0.4752 - acc: 0.8430 - val_loss: 0.4876 - val_acc: 0.8198\n",
      "Epoch 23/40\n",
      "10000/10000 [==============================] - 2s 165us/step - loss: 0.4552 - acc: 0.8522 - val_loss: 0.4727 - val_acc: 0.8194\n",
      "Epoch 24/40\n",
      "10000/10000 [==============================] - 2s 157us/step - loss: 0.4361 - acc: 0.8583 - val_loss: 0.4575 - val_acc: 0.8243\n",
      "Epoch 25/40\n",
      "10000/10000 [==============================] - 2s 168us/step - loss: 0.4180 - acc: 0.8670 - val_loss: 0.4418 - val_acc: 0.8351\n",
      "Epoch 26/40\n",
      "10000/10000 [==============================] - 2s 162us/step - loss: 0.4003 - acc: 0.8734 - val_loss: 0.4284 - val_acc: 0.8404\n",
      "Epoch 27/40\n",
      "10000/10000 [==============================] - 2s 186us/step - loss: 0.3838 - acc: 0.8782 - val_loss: 0.4165 - val_acc: 0.8446\n",
      "Epoch 28/40\n",
      "10000/10000 [==============================] - 2s 166us/step - loss: 0.3685 - acc: 0.8838 - val_loss: 0.4057 - val_acc: 0.8473\n",
      "Epoch 29/40\n",
      "10000/10000 [==============================] - 2s 181us/step - loss: 0.3542 - acc: 0.8881 - val_loss: 0.3953 - val_acc: 0.8518\n",
      "Epoch 30/40\n",
      "10000/10000 [==============================] - 2s 175us/step - loss: 0.3411 - acc: 0.8918 - val_loss: 0.3864 - val_acc: 0.8530\n",
      "Epoch 31/40\n",
      "10000/10000 [==============================] - 2s 151us/step - loss: 0.3285 - acc: 0.8976 - val_loss: 0.3782 - val_acc: 0.8553\n",
      "Epoch 32/40\n",
      "10000/10000 [==============================] - 2s 167us/step - loss: 0.3171 - acc: 0.9003 - val_loss: 0.3709 - val_acc: 0.8577\n",
      "Epoch 33/40\n",
      "10000/10000 [==============================] - 2s 172us/step - loss: 0.3066 - acc: 0.9028 - val_loss: 0.3643 - val_acc: 0.8591\n",
      "Epoch 34/40\n",
      "10000/10000 [==============================] - 2s 186us/step - loss: 0.2965 - acc: 0.9050 - val_loss: 0.3584 - val_acc: 0.8599\n",
      "Epoch 35/40\n",
      "10000/10000 [==============================] - 2s 200us/step - loss: 0.2873 - acc: 0.9082 - val_loss: 0.3542 - val_acc: 0.8583\n",
      "Epoch 36/40\n",
      "10000/10000 [==============================] - 2s 203us/step - loss: 0.2785 - acc: 0.9099 - val_loss: 0.3482 - val_acc: 0.8628\n",
      "Epoch 37/40\n",
      "10000/10000 [==============================] - 2s 248us/step - loss: 0.2703 - acc: 0.9117 - val_loss: 0.3439 - val_acc: 0.8645\n",
      "Epoch 38/40\n",
      "10000/10000 [==============================] - 2s 234us/step - loss: 0.2630 - acc: 0.9144 - val_loss: 0.3408 - val_acc: 0.8637\n",
      "Epoch 39/40\n",
      "10000/10000 [==============================] - 2s 195us/step - loss: 0.2559 - acc: 0.9169 - val_loss: 0.3365 - val_acc: 0.8665\n",
      "Epoch 40/40\n",
      "10000/10000 [==============================] - 2s 179us/step - loss: 0.2479 - acc: 0.9190 - val_loss: 0.3332 - val_acc: 0.8672\n"
     ]
    }
   ],
   "source": [
    "history=model.fit(x_train,y_train,validation_data=(x_test,y_test),epochs=40,batch_size=500,verbose=1)"
   ]
  },
  {
   "cell_type": "code",
   "execution_count": 232,
   "metadata": {},
   "outputs": [
    {
     "data": {
      "text/plain": [
       "'\\nhistory = model.fit(partial_x_train,\\n                    partial_y_train,\\n                    epochs=40,\\n                    batch_size=512,\\n                    validation_data=(x_val, y_val))\\n'"
      ]
     },
     "execution_count": 232,
     "metadata": {},
     "output_type": "execute_result"
    }
   ],
   "source": [
    "'''\n",
    "history = model.fit(partial_x_train,\n",
    "                    partial_y_train,\n",
    "                    epochs=40,\n",
    "                    batch_size=512,\n",
    "                    validation_data=(x_val, y_val))\n",
    "'''\n"
   ]
  },
  {
   "cell_type": "code",
   "execution_count": 235,
   "metadata": {},
   "outputs": [
    {
     "name": "stdout",
     "output_type": "stream",
     "text": [
      "25000/25000 [==============================] - 2s 75us/step\n",
      "[0.3421611527442932, 0.85876]\n"
     ]
    }
   ],
   "source": [
    "print(model.evaluate(test_data,test_labels))"
   ]
  },
  {
   "cell_type": "code",
   "execution_count": 238,
   "metadata": {},
   "outputs": [],
   "source": [
    "desc=history.history"
   ]
  },
  {
   "cell_type": "code",
   "execution_count": 239,
   "metadata": {},
   "outputs": [
    {
     "data": {
      "text/plain": [
       "dict_keys(['val_loss', 'val_acc', 'loss', 'acc'])"
      ]
     },
     "execution_count": 239,
     "metadata": {},
     "output_type": "execute_result"
    }
   ],
   "source": [
    "desc.keys()"
   ]
  },
  {
   "cell_type": "code",
   "execution_count": 240,
   "metadata": {},
   "outputs": [],
   "source": [
    "#Plot"
   ]
  },
  {
   "cell_type": "code",
   "execution_count": 242,
   "metadata": {},
   "outputs": [
    {
     "data": {
      "image/png": "[encoded data removed]",
      "text/plain": [
       "<Figure size 432x288 with 1 Axes>"
      ]
     },
     "metadata": {
      "needs_background": "light"
     },
     "output_type": "display_data"
    }
   ],
   "source": [
    "acc = desc['acc']\n",
    "val_acc = desc['val_acc']\n",
    "loss = desc['loss']\n",
    "val_loss = desc['val_loss']\n",
    "\n",
    "epochs = range(1, len(acc) + 1)\n",
    "\n",
    "# \"bo\" is for \"blue dot\"\n",
    "plt.plot(epochs, loss, 'bo', label='Training loss')\n",
    "# b is for \"solid blue line\"\n",
    "plt.plot(epochs, val_loss, 'b', label='Validation loss')\n",
    "plt.title('Training and validation loss')\n",
    "plt.xlabel('Epochs')\n",
    "plt.ylabel('Loss')\n",
    "plt.legend()\n",
    "\n",
    "plt.show()"
   ]
  },
  {
   "cell_type": "code",
   "execution_count": 243,
   "metadata": {},
   "outputs": [
    {
     "data": {
      "image/png": "[encoded data removed]",
      "text/plain": [
       "<Figure size 432x288 with 1 Axes>"
      ]
     },
     "metadata": {
      "needs_background": "light"
     },
     "output_type": "display_data"
    }
   ],
   "source": [
    "plt.clf()   # clear figure\n",
    "\n",
    "plt.plot(epochs, acc, 'bo', label='Training acc')\n",
    "plt.plot(epochs, val_acc, 'b', label='Validation acc')\n",
    "plt.title('Training and validation accuracy')\n",
    "plt.xlabel('Epochs')\n",
    "plt.ylabel('Accuracy')\n",
    "plt.legend()\n",
    "\n",
    "plt.show()"
   ]
  },
  {
   "cell_type": "code",
   "execution_count": 244,
   "metadata": {},
   "outputs": [],
   "source": [
    "#https://colab.research.google.com/github/tensorflow/docs/blob/master/site/en/tutorials/keras/basic_text_classification.ipynb\n",
    "#https://colab.research.google.com/drive/1CNWZ76wKL3Vk2l_f6ymrXaqjtA_TaLsj"
   ]
  },
  {
   "cell_type": "code",
   "execution_count": null,
   "metadata": {},
   "outputs": [],
   "source": []
  }
 ],
 "metadata": {
  "kernelspec": {
   "display_name": "Python 3",
   "language": "python",
   "name": "python3"
  },
  "language_info": {
   "codemirror_mode": {
    "name": "ipython",
    "version": 3
   },
   "file_extension": ".py",
   "mimetype": "text/x-python",
   "name": "python",
   "nbconvert_exporter": "python",
   "pygments_lexer": "ipython3",
   "version": "3.6.8"
  }
 },
 "nbformat": 4,
 "nbformat_minor": 2
}
